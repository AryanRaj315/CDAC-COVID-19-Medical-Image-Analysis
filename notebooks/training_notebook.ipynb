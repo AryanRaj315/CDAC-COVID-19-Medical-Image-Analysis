{
 "cells": [
  {
   "cell_type": "code",
   "execution_count": 2,
   "metadata": {},
   "outputs": [],
   "source": [
    "import sys\n",
    "sys.path.insert(0, \"segmentation_models.pytorch/\")\n",
    "from train import Trainer\n",
    "import torch\n",
    "import torch.nn as nn\n",
    "try:\n",
    "    from efficientnet_pytorch import EfficientNet\n",
    "except:\n",
    "    os.system(f\"\"\"pip install efficientnet-pytorch\"\"\")\n",
    "    from efficientnet_pytorch import EfficientNet"
   ]
  },
  {
   "cell_type": "markdown",
   "metadata": {},
   "source": [
    "## Train"
   ]
  },
  {
   "cell_type": "code",
   "execution_count": 3,
   "metadata": {},
   "outputs": [
    {
     "name": "stdout",
     "output_type": "stream",
     "text": [
      "Loaded pretrained weights for efficientnet-b3\n",
      "Starting epoch: 0 | phase: train | ⏰: 21:11:41\n"
     ]
    },
    {
     "data": {
      "application/vnd.jupyter.widget-view+json": {
       "model_id": "efbcfdcd6f3247d4b6f4ccab6c504c76",
       "version_major": 2,
       "version_minor": 0
      },
      "text/plain": [
       "HBox(children=(FloatProgress(value=0.0, max=55.0), HTML(value='')))"
      ]
     },
     "metadata": {},
     "output_type": "display_data"
    },
    {
     "name": "stdout",
     "output_type": "stream",
     "text": [
      "\n",
      "Loss: 1.0501 | accuracy: 0.6758 | F1: 0.6758 | Precision: 0.3621 | Recall: 0.6758\n",
      "Starting epoch: 0 | phase: val | ⏰: 21:11:55\n"
     ]
    },
    {
     "data": {
      "application/vnd.jupyter.widget-view+json": {
       "model_id": "87651462f65d406a8f7956167bafb31d",
       "version_major": 2,
       "version_minor": 0
      },
      "text/plain": [
       "HBox(children=(FloatProgress(value=0.0, max=14.0), HTML(value='')))"
      ]
     },
     "metadata": {},
     "output_type": "display_data"
    },
    {
     "name": "stdout",
     "output_type": "stream",
     "text": [
      "\n",
      "Loss: 1.0214 | accuracy: 0.7714 | F1: 0.7714 | Precision: 0.3643 | Recall: 0.7714\n",
      "* New optimal found according to f1 score, saving state *\n",
      "* New optimal found according to val loss, saving state *\n",
      "\n",
      "Starting epoch: 1 | phase: train | ⏰: 21:11:59\n"
     ]
    },
    {
     "data": {
      "application/vnd.jupyter.widget-view+json": {
       "model_id": "582d0f9909d14e2e84bbc15d83e71ac3",
       "version_major": 2,
       "version_minor": 0
      },
      "text/plain": [
       "HBox(children=(FloatProgress(value=0.0, max=55.0), HTML(value='')))"
      ]
     },
     "metadata": {},
     "output_type": "display_data"
    },
    {
     "name": "stdout",
     "output_type": "stream",
     "text": [
      "\n",
      "Loss: 0.6756 | accuracy: 0.8280 | F1: 0.8280 | Precision: 0.3621 | Recall: 0.8280\n",
      "Starting epoch: 1 | phase: val | ⏰: 21:12:11\n"
     ]
    },
    {
     "data": {
      "application/vnd.jupyter.widget-view+json": {
       "model_id": "ff5abe39bd264e3d8dc89f0638e59f2f",
       "version_major": 2,
       "version_minor": 0
      },
      "text/plain": [
       "HBox(children=(FloatProgress(value=0.0, max=14.0), HTML(value='')))"
      ]
     },
     "metadata": {},
     "output_type": "display_data"
    },
    {
     "name": "stdout",
     "output_type": "stream",
     "text": [
      "\n",
      "Loss: 0.6715 | accuracy: 0.7679 | F1: 0.7679 | Precision: 0.3536 | Recall: 0.7679\n",
      "* New optimal found according to val loss, saving state *\n",
      "\n",
      "Starting epoch: 2 | phase: train | ⏰: 21:12:13\n"
     ]
    },
    {
     "data": {
      "application/vnd.jupyter.widget-view+json": {
       "model_id": "a62667443bcf4ceeb77c424cb0e0f31d",
       "version_major": 2,
       "version_minor": 0
      },
      "text/plain": [
       "HBox(children=(FloatProgress(value=0.0, max=55.0), HTML(value='')))"
      ]
     },
     "metadata": {},
     "output_type": "display_data"
    },
    {
     "name": "stdout",
     "output_type": "stream",
     "text": [
      "\n",
      "Loss: 0.4754 | accuracy: 0.8644 | F1: 0.8644 | Precision: 0.3545 | Recall: 0.8644\n",
      "Starting epoch: 2 | phase: val | ⏰: 21:12:25\n"
     ]
    },
    {
     "data": {
      "application/vnd.jupyter.widget-view+json": {
       "model_id": "4f0bf7e40e1f4f6386af08f293725de4",
       "version_major": 2,
       "version_minor": 0
      },
      "text/plain": [
       "HBox(children=(FloatProgress(value=0.0, max=14.0), HTML(value='')))"
      ]
     },
     "metadata": {},
     "output_type": "display_data"
    },
    {
     "name": "stdout",
     "output_type": "stream",
     "text": [
      "\n",
      "Loss: 0.6078 | accuracy: 0.7661 | F1: 0.7661 | Precision: 0.3643 | Recall: 0.7661\n",
      "* New optimal found according to val loss, saving state *\n",
      "\n",
      "Starting epoch: 3 | phase: train | ⏰: 21:12:28\n"
     ]
    },
    {
     "data": {
      "application/vnd.jupyter.widget-view+json": {
       "model_id": "f833c28a819545efafdc338516589628",
       "version_major": 2,
       "version_minor": 0
      },
      "text/plain": [
       "HBox(children=(FloatProgress(value=0.0, max=55.0), HTML(value='')))"
      ]
     },
     "metadata": {},
     "output_type": "display_data"
    },
    {
     "name": "stdout",
     "output_type": "stream",
     "text": [
      "\n",
      "Loss: 0.3563 | accuracy: 0.8977 | F1: 0.8977 | Precision: 0.3621 | Recall: 0.8977\n",
      "Starting epoch: 3 | phase: val | ⏰: 21:12:40\n"
     ]
    },
    {
     "data": {
      "application/vnd.jupyter.widget-view+json": {
       "model_id": "dc9d5ceaad4b416eaa5c3300577e98c6",
       "version_major": 2,
       "version_minor": 0
      },
      "text/plain": [
       "HBox(children=(FloatProgress(value=0.0, max=14.0), HTML(value='')))"
      ]
     },
     "metadata": {},
     "output_type": "display_data"
    },
    {
     "name": "stdout",
     "output_type": "stream",
     "text": [
      "\n",
      "Loss: 0.5829 | accuracy: 0.8429 | F1: 0.8429 | Precision: 0.3536 | Recall: 0.8429\n",
      "* New optimal found according to f1 score, saving state *\n",
      "* New optimal found according to val loss, saving state *\n",
      "\n",
      "Starting epoch: 4 | phase: train | ⏰: 21:12:43\n"
     ]
    },
    {
     "data": {
      "application/vnd.jupyter.widget-view+json": {
       "model_id": "cec261bbb1d245a4b28a26eeb0508490",
       "version_major": 2,
       "version_minor": 0
      },
      "text/plain": [
       "HBox(children=(FloatProgress(value=0.0, max=55.0), HTML(value='')))"
      ]
     },
     "metadata": {},
     "output_type": "display_data"
    },
    {
     "name": "stdout",
     "output_type": "stream",
     "text": [
      "\n",
      "Loss: 0.2480 | accuracy: 0.9250 | F1: 0.9250 | Precision: 0.3583 | Recall: 0.9250\n",
      "Starting epoch: 4 | phase: val | ⏰: 21:12:55\n"
     ]
    },
    {
     "data": {
      "application/vnd.jupyter.widget-view+json": {
       "model_id": "a979be962efd4895bc620edf09a7a818",
       "version_major": 2,
       "version_minor": 0
      },
      "text/plain": [
       "HBox(children=(FloatProgress(value=0.0, max=14.0), HTML(value='')))"
      ]
     },
     "metadata": {},
     "output_type": "display_data"
    },
    {
     "name": "stdout",
     "output_type": "stream",
     "text": [
      "\n",
      "Loss: 0.5558 | accuracy: 0.8375 | F1: 0.8375 | Precision: 0.3589 | Recall: 0.8375\n",
      "* New optimal found according to val loss, saving state *\n",
      "\n",
      "Starting epoch: 5 | phase: train | ⏰: 21:12:58\n"
     ]
    },
    {
     "data": {
      "application/vnd.jupyter.widget-view+json": {
       "model_id": "00ae73d341554d5a9e0a7483109237ec",
       "version_major": 2,
       "version_minor": 0
      },
      "text/plain": [
       "HBox(children=(FloatProgress(value=0.0, max=55.0), HTML(value='')))"
      ]
     },
     "metadata": {},
     "output_type": "display_data"
    },
    {
     "name": "stdout",
     "output_type": "stream",
     "text": [
      "\n",
      "Loss: 0.2481 | accuracy: 0.9341 | F1: 0.9341 | Precision: 0.3583 | Recall: 0.9341\n",
      "Starting epoch: 5 | phase: val | ⏰: 21:13:10\n"
     ]
    },
    {
     "data": {
      "application/vnd.jupyter.widget-view+json": {
       "model_id": "10b6a35d927a42a4b49219dae834aedd",
       "version_major": 2,
       "version_minor": 0
      },
      "text/plain": [
       "HBox(children=(FloatProgress(value=0.0, max=14.0), HTML(value='')))"
      ]
     },
     "metadata": {},
     "output_type": "display_data"
    },
    {
     "name": "stdout",
     "output_type": "stream",
     "text": [
      "\n",
      "Loss: 0.3814 | accuracy: 0.8839 | F1: 0.8839 | Precision: 0.3482 | Recall: 0.8839\n",
      "* New optimal found according to f1 score, saving state *\n",
      "* New optimal found according to val loss, saving state *\n",
      "\n",
      "Starting epoch: 6 | phase: train | ⏰: 21:13:14\n"
     ]
    },
    {
     "data": {
      "application/vnd.jupyter.widget-view+json": {
       "model_id": "4c6490961d9b43ad82dcc047976d7719",
       "version_major": 2,
       "version_minor": 0
      },
      "text/plain": [
       "HBox(children=(FloatProgress(value=0.0, max=55.0), HTML(value='')))"
      ]
     },
     "metadata": {},
     "output_type": "display_data"
    },
    {
     "name": "stdout",
     "output_type": "stream",
     "text": [
      "\n",
      "Loss: 0.2177 | accuracy: 0.9386 | F1: 0.9386 | Precision: 0.3583 | Recall: 0.9386\n",
      "Starting epoch: 6 | phase: val | ⏰: 21:13:26\n"
     ]
    },
    {
     "data": {
      "application/vnd.jupyter.widget-view+json": {
       "model_id": "c4e0687141ad4c3cb9deb31c586558a7",
       "version_major": 2,
       "version_minor": 0
      },
      "text/plain": [
       "HBox(children=(FloatProgress(value=0.0, max=14.0), HTML(value='')))"
      ]
     },
     "metadata": {},
     "output_type": "display_data"
    },
    {
     "name": "stdout",
     "output_type": "stream",
     "text": [
      "\n",
      "Loss: 0.4979 | accuracy: 0.8482 | F1: 0.8482 | Precision: 0.3536 | Recall: 0.8482\n",
      "\n",
      "Starting epoch: 7 | phase: train | ⏰: 21:13:27\n"
     ]
    },
    {
     "data": {
      "application/vnd.jupyter.widget-view+json": {
       "model_id": "7de30f41affd4ca184ec37d69174f4c8",
       "version_major": 2,
       "version_minor": 0
      },
      "text/plain": [
       "HBox(children=(FloatProgress(value=0.0, max=55.0), HTML(value='')))"
      ]
     },
     "metadata": {},
     "output_type": "display_data"
    },
    {
     "name": "stdout",
     "output_type": "stream",
     "text": [
      "\n",
      "Loss: 0.1637 | accuracy: 0.9636 | F1: 0.9636 | Precision: 0.3621 | Recall: 0.9636\n",
      "Starting epoch: 7 | phase: val | ⏰: 21:13:39\n"
     ]
    },
    {
     "data": {
      "application/vnd.jupyter.widget-view+json": {
       "model_id": "53d0dd06bb324e7ca454643f77d4fff6",
       "version_major": 2,
       "version_minor": 0
      },
      "text/plain": [
       "HBox(children=(FloatProgress(value=0.0, max=14.0), HTML(value='')))"
      ]
     },
     "metadata": {},
     "output_type": "display_data"
    },
    {
     "name": "stdout",
     "output_type": "stream",
     "text": [
      "\n",
      "Loss: 0.4266 | accuracy: 0.8875 | F1: 0.8875 | Precision: 0.3589 | Recall: 0.8875\n",
      "* New optimal found according to f1 score, saving state *\n",
      "\n",
      "Starting epoch: 8 | phase: train | ⏰: 21:13:41\n"
     ]
    },
    {
     "data": {
      "application/vnd.jupyter.widget-view+json": {
       "model_id": "b8a0bfe56e0a4a20bb7d4d152460bbe0",
       "version_major": 2,
       "version_minor": 0
      },
      "text/plain": [
       "HBox(children=(FloatProgress(value=0.0, max=55.0), HTML(value='')))"
      ]
     },
     "metadata": {},
     "output_type": "display_data"
    },
    {
     "name": "stdout",
     "output_type": "stream",
     "text": [
      "\n",
      "Loss: 0.2424 | accuracy: 0.9348 | F1: 0.9348 | Precision: 0.3545 | Recall: 0.9348\n",
      "Starting epoch: 8 | phase: val | ⏰: 21:13:53\n"
     ]
    },
    {
     "data": {
      "application/vnd.jupyter.widget-view+json": {
       "model_id": "bcf4776a37844d6dbfc8caafac820389",
       "version_major": 2,
       "version_minor": 0
      },
      "text/plain": [
       "HBox(children=(FloatProgress(value=0.0, max=14.0), HTML(value='')))"
      ]
     },
     "metadata": {},
     "output_type": "display_data"
    },
    {
     "name": "stdout",
     "output_type": "stream",
     "text": [
      "\n",
      "Loss: 0.4392 | accuracy: 0.8696 | F1: 0.8696 | Precision: 0.3643 | Recall: 0.8696\n",
      "\n",
      "Starting epoch: 9 | phase: train | ⏰: 21:13:54\n"
     ]
    },
    {
     "data": {
      "application/vnd.jupyter.widget-view+json": {
       "model_id": "4fb21a730f164843af21a279e5c8f5dd",
       "version_major": 2,
       "version_minor": 0
      },
      "text/plain": [
       "HBox(children=(FloatProgress(value=0.0, max=55.0), HTML(value='')))"
      ]
     },
     "metadata": {},
     "output_type": "display_data"
    },
    {
     "name": "stdout",
     "output_type": "stream",
     "text": [
      "\n",
      "Loss: 0.1972 | accuracy: 0.9500 | F1: 0.9500 | Precision: 0.3583 | Recall: 0.9500\n",
      "Starting epoch: 9 | phase: val | ⏰: 21:14:06\n"
     ]
    },
    {
     "data": {
      "application/vnd.jupyter.widget-view+json": {
       "model_id": "3dc02173e9c9455686d2ae56512fed66",
       "version_major": 2,
       "version_minor": 0
      },
      "text/plain": [
       "HBox(children=(FloatProgress(value=0.0, max=14.0), HTML(value='')))"
      ]
     },
     "metadata": {},
     "output_type": "display_data"
    },
    {
     "name": "stdout",
     "output_type": "stream",
     "text": [
      "\n",
      "Loss: 0.2486 | accuracy: 0.9232 | F1: 0.9232 | Precision: 0.3589 | Recall: 0.9232\n",
      "* New optimal found according to f1 score, saving state *\n",
      "* New optimal found according to val loss, saving state *\n",
      "\n",
      "Starting epoch: 10 | phase: train | ⏰: 21:14:10\n"
     ]
    },
    {
     "data": {
      "application/vnd.jupyter.widget-view+json": {
       "model_id": "48e785b7a14f40119e978ee4dbe5e7c2",
       "version_major": 2,
       "version_minor": 0
      },
      "text/plain": [
       "HBox(children=(FloatProgress(value=0.0, max=55.0), HTML(value='')))"
      ]
     },
     "metadata": {},
     "output_type": "display_data"
    },
    {
     "name": "stdout",
     "output_type": "stream",
     "text": [
      "\n",
      "Loss: 0.1792 | accuracy: 0.9500 | F1: 0.9500 | Precision: 0.3583 | Recall: 0.9500\n",
      "Starting epoch: 10 | phase: val | ⏰: 21:14:21\n"
     ]
    },
    {
     "data": {
      "application/vnd.jupyter.widget-view+json": {
       "model_id": "37667d304d724fca9b7c054a913a0aaf",
       "version_major": 2,
       "version_minor": 0
      },
      "text/plain": [
       "HBox(children=(FloatProgress(value=0.0, max=14.0), HTML(value='')))"
      ]
     },
     "metadata": {},
     "output_type": "display_data"
    },
    {
     "name": "stdout",
     "output_type": "stream",
     "text": [
      "\n",
      "Loss: 0.3436 | accuracy: 0.9232 | F1: 0.9232 | Precision: 0.3589 | Recall: 0.9232\n",
      "\n",
      "Starting epoch: 11 | phase: train | ⏰: 21:14:23\n"
     ]
    },
    {
     "data": {
      "application/vnd.jupyter.widget-view+json": {
       "model_id": "4d6d2987de994c17ab9d3f8f3b5ce6e6",
       "version_major": 2,
       "version_minor": 0
      },
      "text/plain": [
       "HBox(children=(FloatProgress(value=0.0, max=55.0), HTML(value='')))"
      ]
     },
     "metadata": {},
     "output_type": "display_data"
    },
    {
     "name": "stdout",
     "output_type": "stream",
     "text": [
      "\n",
      "Loss: 0.1860 | accuracy: 0.9485 | F1: 0.9485 | Precision: 0.3583 | Recall: 0.9485\n",
      "Starting epoch: 11 | phase: val | ⏰: 21:14:34\n"
     ]
    },
    {
     "data": {
      "application/vnd.jupyter.widget-view+json": {
       "model_id": "f32f4a5629a94f25a59048d88cbce5ce",
       "version_major": 2,
       "version_minor": 0
      },
      "text/plain": [
       "HBox(children=(FloatProgress(value=0.0, max=14.0), HTML(value='')))"
      ]
     },
     "metadata": {},
     "output_type": "display_data"
    },
    {
     "name": "stdout",
     "output_type": "stream",
     "text": [
      "\n",
      "Loss: 0.2354 | accuracy: 0.9375 | F1: 0.9375 | Precision: 0.3482 | Recall: 0.9375\n",
      "* New optimal found according to f1 score, saving state *\n",
      "* New optimal found according to val loss, saving state *\n",
      "\n",
      "Starting epoch: 12 | phase: train | ⏰: 21:14:38\n"
     ]
    },
    {
     "data": {
      "application/vnd.jupyter.widget-view+json": {
       "model_id": "79ed09016de8496aaa20bff32fea6a17",
       "version_major": 2,
       "version_minor": 0
      },
      "text/plain": [
       "HBox(children=(FloatProgress(value=0.0, max=55.0), HTML(value='')))"
      ]
     },
     "metadata": {},
     "output_type": "display_data"
    },
    {
     "name": "stdout",
     "output_type": "stream",
     "text": [
      "\n",
      "Loss: 0.2609 | accuracy: 0.9523 | F1: 0.9523 | Precision: 0.3621 | Recall: 0.9523\n",
      "Starting epoch: 12 | phase: val | ⏰: 21:14:50\n"
     ]
    },
    {
     "data": {
      "application/vnd.jupyter.widget-view+json": {
       "model_id": "e9eb0fbfdce24fbe899a13c6580887f8",
       "version_major": 2,
       "version_minor": 0
      },
      "text/plain": [
       "HBox(children=(FloatProgress(value=0.0, max=14.0), HTML(value='')))"
      ]
     },
     "metadata": {},
     "output_type": "display_data"
    },
    {
     "name": "stdout",
     "output_type": "stream",
     "text": [
      "\n",
      "Loss: 0.3989 | accuracy: 0.8929 | F1: 0.8929 | Precision: 0.3482 | Recall: 0.8929\n",
      "\n",
      "Starting epoch: 13 | phase: train | ⏰: 21:14:51\n"
     ]
    },
    {
     "data": {
      "application/vnd.jupyter.widget-view+json": {
       "model_id": "b1263a45fb9b44ce87c7b557edc699d9",
       "version_major": 2,
       "version_minor": 0
      },
      "text/plain": [
       "HBox(children=(FloatProgress(value=0.0, max=55.0), HTML(value='')))"
      ]
     },
     "metadata": {},
     "output_type": "display_data"
    },
    {
     "name": "stdout",
     "output_type": "stream",
     "text": [
      "\n",
      "Loss: 0.1609 | accuracy: 0.9636 | F1: 0.9636 | Precision: 0.3583 | Recall: 0.9636\n",
      "Starting epoch: 13 | phase: val | ⏰: 21:15:03\n"
     ]
    },
    {
     "data": {
      "application/vnd.jupyter.widget-view+json": {
       "model_id": "d3d0818fd6004636937782394d3e8215",
       "version_major": 2,
       "version_minor": 0
      },
      "text/plain": [
       "HBox(children=(FloatProgress(value=0.0, max=14.0), HTML(value='')))"
      ]
     },
     "metadata": {},
     "output_type": "display_data"
    },
    {
     "name": "stdout",
     "output_type": "stream",
     "text": [
      "\n",
      "Loss: 0.1965 | accuracy: 0.9375 | F1: 0.9375 | Precision: 0.3536 | Recall: 0.9375\n",
      "* New optimal found according to val loss, saving state *\n",
      "\n",
      "Starting epoch: 14 | phase: train | ⏰: 21:15:06\n"
     ]
    },
    {
     "data": {
      "application/vnd.jupyter.widget-view+json": {
       "model_id": "db7ba79797a34cdc9ffd5c95e21bbb01",
       "version_major": 2,
       "version_minor": 0
      },
      "text/plain": [
       "HBox(children=(FloatProgress(value=0.0, max=55.0), HTML(value='')))"
      ]
     },
     "metadata": {},
     "output_type": "display_data"
    },
    {
     "name": "stdout",
     "output_type": "stream",
     "text": [
      "\n",
      "Loss: 0.1196 | accuracy: 0.9750 | F1: 0.9750 | Precision: 0.3621 | Recall: 0.9750\n",
      "Starting epoch: 14 | phase: val | ⏰: 21:15:18\n"
     ]
    },
    {
     "data": {
      "application/vnd.jupyter.widget-view+json": {
       "model_id": "380e520adfa84edf813f789f73e8aff5",
       "version_major": 2,
       "version_minor": 0
      },
      "text/plain": [
       "HBox(children=(FloatProgress(value=0.0, max=14.0), HTML(value='')))"
      ]
     },
     "metadata": {},
     "output_type": "display_data"
    },
    {
     "name": "stdout",
     "output_type": "stream",
     "text": [
      "\n",
      "Loss: 0.3320 | accuracy: 0.8964 | F1: 0.8964 | Precision: 0.3589 | Recall: 0.8964\n",
      "\n",
      "Starting epoch: 15 | phase: train | ⏰: 21:15:19\n"
     ]
    },
    {
     "data": {
      "application/vnd.jupyter.widget-view+json": {
       "model_id": "df8fffaf48ab41e2894a0f60cea5e643",
       "version_major": 2,
       "version_minor": 0
      },
      "text/plain": [
       "HBox(children=(FloatProgress(value=0.0, max=55.0), HTML(value='')))"
      ]
     },
     "metadata": {},
     "output_type": "display_data"
    },
    {
     "name": "stdout",
     "output_type": "stream",
     "text": [
      "\n",
      "Loss: 0.1356 | accuracy: 0.9591 | F1: 0.9591 | Precision: 0.3621 | Recall: 0.9591\n",
      "Starting epoch: 15 | phase: val | ⏰: 21:15:31\n"
     ]
    },
    {
     "data": {
      "application/vnd.jupyter.widget-view+json": {
       "model_id": "24cc08181ab64469833588ca1ce1215c",
       "version_major": 2,
       "version_minor": 0
      },
      "text/plain": [
       "HBox(children=(FloatProgress(value=0.0, max=14.0), HTML(value='')))"
      ]
     },
     "metadata": {},
     "output_type": "display_data"
    },
    {
     "name": "stdout",
     "output_type": "stream",
     "text": [
      "\n",
      "Loss: 0.3074 | accuracy: 0.9196 | F1: 0.9196 | Precision: 0.3482 | Recall: 0.9196\n",
      "\n",
      "Starting epoch: 16 | phase: train | ⏰: 21:15:32\n"
     ]
    },
    {
     "data": {
      "application/vnd.jupyter.widget-view+json": {
       "model_id": "8ccd050dbff0414a8462af5d7d4dd09f",
       "version_major": 2,
       "version_minor": 0
      },
      "text/plain": [
       "HBox(children=(FloatProgress(value=0.0, max=55.0), HTML(value='')))"
      ]
     },
     "metadata": {},
     "output_type": "display_data"
    },
    {
     "name": "stdout",
     "output_type": "stream",
     "text": [
      "\n",
      "Loss: 0.1396 | accuracy: 0.9591 | F1: 0.9591 | Precision: 0.3545 | Recall: 0.9591\n",
      "Starting epoch: 16 | phase: val | ⏰: 21:15:44\n"
     ]
    },
    {
     "data": {
      "application/vnd.jupyter.widget-view+json": {
       "model_id": "e9db492921a240fe9a1e226d906fb990",
       "version_major": 2,
       "version_minor": 0
      },
      "text/plain": [
       "HBox(children=(FloatProgress(value=0.0, max=14.0), HTML(value='')))"
      ]
     },
     "metadata": {},
     "output_type": "display_data"
    },
    {
     "name": "stdout",
     "output_type": "stream",
     "text": [
      "\n",
      "Loss: 0.2641 | accuracy: 0.9375 | F1: 0.9375 | Precision: 0.3482 | Recall: 0.9375\n",
      "\n",
      "Starting epoch: 17 | phase: train | ⏰: 21:15:45\n"
     ]
    },
    {
     "data": {
      "application/vnd.jupyter.widget-view+json": {
       "model_id": "2aa50acc644c400280142c1fee615341",
       "version_major": 2,
       "version_minor": 0
      },
      "text/plain": [
       "HBox(children=(FloatProgress(value=0.0, max=55.0), HTML(value='')))"
      ]
     },
     "metadata": {},
     "output_type": "display_data"
    },
    {
     "name": "stdout",
     "output_type": "stream",
     "text": [
      "\n",
      "Loss: 0.1112 | accuracy: 0.9727 | F1: 0.9727 | Precision: 0.3583 | Recall: 0.9727\n",
      "Starting epoch: 17 | phase: val | ⏰: 21:15:57\n"
     ]
    },
    {
     "data": {
      "application/vnd.jupyter.widget-view+json": {
       "model_id": "8cdd0df4e04549a0b4b94a66944b2f3a",
       "version_major": 2,
       "version_minor": 0
      },
      "text/plain": [
       "HBox(children=(FloatProgress(value=0.0, max=14.0), HTML(value='')))"
      ]
     },
     "metadata": {},
     "output_type": "display_data"
    },
    {
     "name": "stdout",
     "output_type": "stream",
     "text": [
      "\n",
      "Loss: 0.2540 | accuracy: 0.9554 | F1: 0.9554 | Precision: 0.3536 | Recall: 0.9554\n",
      "Epoch    18: reducing learning rate of group 0 to 5.0000e-04.\n",
      "* New optimal found according to f1 score, saving state *\n",
      "\n",
      "Starting epoch: 18 | phase: train | ⏰: 21:15:59\n"
     ]
    },
    {
     "data": {
      "application/vnd.jupyter.widget-view+json": {
       "model_id": "a5525374ff22449c833111d7906ff550",
       "version_major": 2,
       "version_minor": 0
      },
      "text/plain": [
       "HBox(children=(FloatProgress(value=0.0, max=55.0), HTML(value='')))"
      ]
     },
     "metadata": {},
     "output_type": "display_data"
    },
    {
     "name": "stdout",
     "output_type": "stream",
     "text": [
      "\n",
      "Loss: 0.0766 | accuracy: 0.9886 | F1: 0.9886 | Precision: 0.3583 | Recall: 0.9886\n",
      "Starting epoch: 18 | phase: val | ⏰: 21:16:11\n"
     ]
    },
    {
     "data": {
      "application/vnd.jupyter.widget-view+json": {
       "model_id": "cc599032302e409ca11db4a071b1ba90",
       "version_major": 2,
       "version_minor": 0
      },
      "text/plain": [
       "HBox(children=(FloatProgress(value=0.0, max=14.0), HTML(value='')))"
      ]
     },
     "metadata": {},
     "output_type": "display_data"
    },
    {
     "name": "stdout",
     "output_type": "stream",
     "text": [
      "\n",
      "Loss: 0.1438 | accuracy: 0.9554 | F1: 0.9554 | Precision: 0.3643 | Recall: 0.9554\n",
      "* New optimal found according to val loss, saving state *\n",
      "\n",
      "Starting epoch: 19 | phase: train | ⏰: 21:16:14\n"
     ]
    },
    {
     "data": {
      "application/vnd.jupyter.widget-view+json": {
       "model_id": "f7523b8e08bb4d439cef9926c96223b3",
       "version_major": 2,
       "version_minor": 0
      },
      "text/plain": [
       "HBox(children=(FloatProgress(value=0.0, max=55.0), HTML(value='')))"
      ]
     },
     "metadata": {},
     "output_type": "display_data"
    },
    {
     "name": "stdout",
     "output_type": "stream",
     "text": [
      "\n",
      "Loss: 0.0733 | accuracy: 0.9841 | F1: 0.9841 | Precision: 0.3621 | Recall: 0.9841\n",
      "Starting epoch: 19 | phase: val | ⏰: 21:16:26\n"
     ]
    },
    {
     "data": {
      "application/vnd.jupyter.widget-view+json": {
       "model_id": "e75d13cf81294450be2a61809314eafc",
       "version_major": 2,
       "version_minor": 0
      },
      "text/plain": [
       "HBox(children=(FloatProgress(value=0.0, max=14.0), HTML(value='')))"
      ]
     },
     "metadata": {},
     "output_type": "display_data"
    },
    {
     "name": "stdout",
     "output_type": "stream",
     "text": [
      "\n",
      "Loss: 0.1276 | accuracy: 0.9554 | F1: 0.9554 | Precision: 0.3536 | Recall: 0.9554\n",
      "* New optimal found according to val loss, saving state *\n",
      "\n"
     ]
    }
   ],
   "source": [
    "model = EfficientNet.from_pretrained('efficientnet-b3')\n",
    "num_ftrs = model._fc.in_features\n",
    "model._fc = nn.Linear(num_ftrs, 1)\n",
    "# training\n",
    "model_trainer = Trainer(model = model, optim = 'Ranger', lr = 1e-3, bs = 8, name = \"b3-ranger\")\n",
    "model_trainer.fit(20)"
   ]
  },
  {
   "cell_type": "code",
   "execution_count": null,
   "metadata": {},
   "outputs": [],
   "source": []
  }
 ],
 "metadata": {
  "kernelspec": {
   "display_name": "Python 3",
   "language": "python",
   "name": "python3"
  },
  "language_info": {
   "codemirror_mode": {
    "name": "ipython",
    "version": 3
   },
   "file_extension": ".py",
   "mimetype": "text/x-python",
   "name": "python",
   "nbconvert_exporter": "python",
   "pygments_lexer": "ipython3",
   "version": "3.7.3"
  }
 },
 "nbformat": 4,
 "nbformat_minor": 2
}
